{
  "nbformat": 4,
  "nbformat_minor": 0,
  "metadata": {
    "colab": {
      "provenance": [],
      "include_colab_link": true
    },
    "kernelspec": {
      "name": "python3",
      "display_name": "Python 3"
    },
    "language_info": {
      "name": "python"
    }
  },
  "cells": [
    {
      "cell_type": "markdown",
      "metadata": {
        "id": "view-in-github",
        "colab_type": "text"
      },
      "source": [
        "<a href=\"https://colab.research.google.com/github/aroakim/Python-Portfolio/blob/main/Rock_Paper_Scissors.ipynb\" target=\"_parent\"><img src=\"https://colab.research.google.com/assets/colab-badge.svg\" alt=\"Open In Colab\"/></a>"
      ]
    },
    {
      "cell_type": "markdown",
      "source": [
        "# \"Rock, Paper, Scissors\" Game\n"
      ],
      "metadata": {
        "id": "kWD8aWhLRb3s"
      }
    },
    {
      "cell_type": "markdown",
      "source": [
        "Develop a Python application which will allow a human user to play a game of Rock-Paper-Scissors against a computer opponent. The game's functionality should adhere to the \"Requirements\" section below.\n",
        "\n",
        "For this assignment specifically, all game code should exist in a single cell in the \"Solution\" section."
      ],
      "metadata": {
        "id": "4Srdlse6bI5q"
      }
    },
    {
      "cell_type": "markdown",
      "source": [
        "## Requirements\n",
        "\n"
      ],
      "metadata": {
        "id": "tnj6eer-RnND"
      }
    },
    {
      "cell_type": "markdown",
      "source": [
        "### Welcome Message"
      ],
      "metadata": {
        "id": "G0y8GBQnHnII"
      }
    },
    {
      "cell_type": "markdown",
      "source": [
        "In a text cell, the application should instruct the player to set their name as a [notebook secret](https://prof-rossetti.github.io/intro-software-dev-python-book/notes/dev-tools/google-colab/notebook-secrets.html#implementation) specifically called `PLAYER_NAME`.\n",
        "\n",
        "> FYI: this step has been done for you.\n",
        "\n",
        "Then the application should then read this value from the notebook secrets, and store the value in a Python variable specifically called `player_name`.\n",
        "\n",
        "The application should display a friendly message welcoming the user, such as \"Welcome Jon, to our Rock Paper Scissors Game!\" (for example if \"Jon\" was set as the player's name).\n",
        "\n",
        "> HINT: adapt the example code relating to `userdata`, provided at the bottom of the notebook secrets menu, but change the variable names.\n",
        "\n"
      ],
      "metadata": {
        "id": "ym6HBjgoHpIJ"
      }
    },
    {
      "cell_type": "markdown",
      "source": [
        "### Processing User Inputs\n"
      ],
      "metadata": {
        "id": "6FOgQKiFRnQJ"
      }
    },
    {
      "cell_type": "markdown",
      "source": [
        "\n",
        "The application should prompt the user to input, or otherwise select, an option (i.e. \"rock\", \"paper\", or \"scissors\"). It should store the user's selection in a variable for later reference.\n",
        "\n",
        "> HINT: use the [`input` function](https://prof-rossetti.github.io/intro-software-dev-python-book/notes/python-lang/overview.html#the-input-function) to capture user inputs.\n"
      ],
      "metadata": {
        "id": "vddQO9rNTs9L"
      }
    },
    {
      "cell_type": "markdown",
      "source": [
        "### Validating User Inputs\n"
      ],
      "metadata": {
        "id": "aaKY-opmT1X-"
      }
    },
    {
      "cell_type": "markdown",
      "source": [
        "\n",
        "\n",
        "The application should compare the user's selection against the list of valid options (i.e. \"rock\", \"paper\", and \"scissors\") to determine whether the user has selected a valid option, and should only proceed if the selection is valid.\n",
        "\n",
        "**Case Normalization**:\n",
        "\n",
        "The program should be able to handle various capitalizations of the valid options (i.e. \"ROCK\", \"Rock\", \"rock\", \"RoCk\", etc. are all valid).\n",
        "\n",
        "> HINT: use a [string case manipulation method](https://prof-rossetti.github.io/intro-software-dev-python-book/notes/python-lang/basic-datatypes/strings.html#case-manipulation) on the original user input to simplify your conditional logic.\n",
        "\n",
        "**Graceful Failure**:\n",
        "\n",
        "If the selection is invalid, the program should fail gracefully by displaying a friendly message to the user, and preventing further program execution.\n",
        "\n",
        "The program should not try to further process an invalid input, as it may lead to runtime errors.\n",
        "\n",
        "**Validation Loop**:\n",
        "\n",
        "If the selection is invalid, in addition to displaying a friendly message, it would be nice for the program to continue to prompt the user to try again and provide another input, until the user inputs a valid selection.\n",
        "\n",
        "> HINT: use a [`while` loop](https://prof-rossetti.github.io/intro-software-dev-python-book/notes/python-lang/control-flow/while-loops.html).\n"
      ],
      "metadata": {
        "id": "JNMU2msRRnS8"
      }
    },
    {
      "cell_type": "markdown",
      "source": [
        "### Simulating Computer Selection\n"
      ],
      "metadata": {
        "id": "dcUV0BzvTmpY"
      }
    },
    {
      "cell_type": "markdown",
      "source": [
        "\n",
        "\n",
        "The application should select one of the options (i.e. \"rock\", \"paper\", or \"scissors\") at random, and assign that as the computer player's choice.\n",
        "\n",
        "> HINT: use the `choice` function provided by the [`random` module](https://prof-rossetti.github.io/intro-software-dev-python-book/notes/python-modules/random.html).\n",
        "\n",
        "> HINT: ensure the valid choices are stored in a [list datatype](https://prof-rossetti.github.io/intro-software-dev-python-book/notes/python-lang/container-datatypes/lists.html), and then pass that list to the random choice function.\n"
      ],
      "metadata": {
        "id": "UJPuIG1BTnCM"
      }
    },
    {
      "cell_type": "markdown",
      "source": [
        "### Determining the Winner\n"
      ],
      "metadata": {
        "id": "Yq76aqerS-K7"
      }
    },
    {
      "cell_type": "markdown",
      "source": [
        "\n",
        "\n",
        "The application should compare the user's selection to the computer player's selection, and determine which is the winner. The following logic should govern that determination:\n",
        "\n",
        "  1. Rock beats Scissors\n",
        "  2. Paper beats Rock\n",
        "  3. Scissors beats Paper\n",
        "  4. Rock vs Rock, Paper vs Paper, and Scissors vs Scissors each results in a \"tie\"\n",
        "\n",
        "> HINT: use one or more [`if` statements](https://prof-rossetti.github.io/intro-software-dev-python-book/notes/python-lang/control-flow/conditional-logic.html) (recommended approach for beginners). Two potential alternative options would be to either use a nested if statement, or an if statement with compound expressions utilizing the `and` operator.\n",
        "\n",
        "> FIY: alternatively, it may be possible to use other pre-configured representations of the winners, for example using a nested [dictionary](https://prof-rossetti.github.io/intro-software-dev-python-book/notes/python-lang/container-datatypes/dictionaries.html) containing all possible outcomes.\n",
        "\n"
      ],
      "metadata": {
        "id": "lzvQeH2OS-y-"
      }
    },
    {
      "cell_type": "markdown",
      "source": [
        "### Displaying Results\n"
      ],
      "metadata": {
        "id": "vrAcJg4KRnVr"
      }
    },
    {
      "cell_type": "markdown",
      "source": [
        "\n",
        "After determining the winner, the application should display the results to the user. Desired information outputs (from start to finish) should include at least the following:\n",
        "\n",
        "  + A friendly welcome message, including the player's name (e.g. \"Player One\").\n",
        "  + The user's selected option\n",
        "  + The computer's selected option\n",
        "  + Whether the user or the computer was the winner\n",
        "  + A friendly farewell message\n",
        "\n",
        "Example desired output after one round of game-play:\n",
        "\n",
        "```\n",
        "Welcome 'Player One' to my Rock-Paper-Scissors Game!\n",
        "---------\n",
        "Please choose an option ('rock', 'paper', or 'scissors'): rock\n",
        "---------\n",
        "User choice: 'rock'\n",
        "---------\n",
        "Computer choice: 'scissors'\n",
        "---------\n",
        "You won! Thanks for playing.\n",
        "```\n"
      ],
      "metadata": {
        "id": "MOKoZt0oRnYe"
      }
    },
    {
      "cell_type": "markdown",
      "source": [
        "## Evaluation\n"
      ],
      "metadata": {
        "id": "GWj6HNQQSzZA"
      }
    },
    {
      "cell_type": "markdown",
      "source": [
        "Submissions will be evaluated according to the \"Requirements\" section below, as represented by the following rubric:\n",
        "\n",
        "Category | Requirement | Weight\n",
        "--- | --- | ---\n",
        "Info Inputs | Prompts the user to input their player name via notebook secrets, and reads the value from notebook secrets. | 10%\n",
        "Info Inputs | Prompts the user to input / select a choice from one of \"rock\", \"paper\", or \"scissors\". | 10%\n",
        "Validations | Handles user inputs of various capitalization (i.e. recognizes \"rock\", \"Rock\", \"ROCK\", \"RoCk\", etc. as valid inputs). | 10%\n",
        "Validations | Fails gracefully if encountering an invalid user input (i.e. program does not crash or malfunction if user provides an invalid input, like \"OOPS\"). Avoids a red / crashed cell. | 10%\n",
        "Validations | Implements a validation loop that continuously asks the user to try again and input a selection until they input a valid option. | 10%\n",
        "Simulation | Generates a valid choice at random for the computer player. | 10%\n",
        "Calculations | Displays accurate information about which player is the winner. | 15%\n",
        "Info Outputs | Presents all desired information outputs to the user, ideally in a clear way with clean formatting. | 15%\n",
        "\n",
        "> FYI: this only adds up to 90%, however there is an opportunity to earn up to a 110% by tackling the further exploration challenges (see \"Game Loop Bonus\" below).\n",
        "\n",
        "This rubric is tentative, and may be subject to slight adjustments during the grading process.\n",
        "\n",
        "If experiencing execution error(s) while evaluating the application's required functionality, evaluators are advised to reduce the project's grade by between 4% and 25%, depending on the circumstances and severity of the error(s)."
      ],
      "metadata": {
        "id": "ME5s2Ek6S1Dd"
      }
    },
    {
      "cell_type": "markdown",
      "source": [
        "### Further Exploration (Game Loop Bonus)\n"
      ],
      "metadata": {
        "id": "tX0h_zXcrBBn"
      }
    },
    {
      "cell_type": "markdown",
      "source": [
        "\n",
        "**Play Again** (+10%):\n",
        "\n",
        "Implement a game loop that asks the user whether they'd like to play again. If they say \"yes\", play the game again, otherwise stop. The user should be able to play as many games as they want.\n",
        "\n",
        "> HINT: use a [`while` loop](https://prof-rossetti.github.io/intro-software-dev-python-book/notes/python-lang/control-flow/while-loops.html).\n",
        "\n",
        "**Win Percentage** (+10%):\n",
        "\n",
        "Keep track of how many games have been played, and how many games have been won, and once the user elects to stop playing, display their win percentage.\n",
        "\n",
        "> FYI: win percentage can be calculated as the number of wins divided by the number of total games, or it can be calculated as the number of wins divided by the number of non-tie games.\n",
        "\n",
        "> HINT: use a counter approach.\n",
        "\n",
        "\n"
      ],
      "metadata": {
        "id": "8JGlwWwEUIeK"
      }
    },
    {
      "cell_type": "markdown",
      "source": [
        "## Solution\n",
        "\n"
      ],
      "metadata": {
        "id": "X5X7eG8qTGWG"
      }
    },
    {
      "cell_type": "markdown",
      "source": [
        "Instructions to User:\n",
        "\n",
        "  1. First, set your username as a notebook secret called `PLAYER_NAME`, using the Colab notebook secrets menu in the left sidebar.\n",
        "\n",
        "  2. Then run the cell below to play the game."
      ],
      "metadata": {
        "id": "jAVKPyokIGln"
      }
    },
    {
      "cell_type": "code",
      "source": [
        "from google.colab import userdata\n",
        "from random import choice\n",
        "\n",
        "#Constants\n",
        "options = [\"rock\", \"paper\", \"scissors\"]\n",
        "\n",
        "#Variables\n",
        "start = True\n",
        "try_again = \"Invalid input. Please choose rock, paper, or scissors.\"\n",
        "player_name = userdata.get(\"PLAYER_NAME\") #Get player's name in notebook secrets\n",
        "\n",
        "#Displaying results\n",
        "wins = 0\n",
        "loses = 0\n",
        "ties = 0\n",
        "\n",
        "\n",
        "#Start game: Does player want to play?\n",
        "print(\"Welcome\", player_name,\"to my Rock-Paper-Scissors Game!\")\n",
        "print(\"---------\")\n",
        "\n",
        "while start:\n",
        "    player_choice = input(\"Please choose an option\"\n",
        "                         \" ('rock', 'paper', or 'scissors'): \").lower().lstrip()\n",
        "    print(\"---------\")\n",
        "    computer_choice = choice(options)\n",
        "\n",
        "    if player_choice not in options:\n",
        "        print(try_again)\n",
        "        print(\"---------\")\n",
        "        continue\n",
        "\n",
        "    print(\"User choice:\", player_choice)\n",
        "    print(\"---------\")\n",
        "    print(\"Computer choice:\", computer_choice)\n",
        "    print(\"---------\")\n",
        "\n",
        "    #Determining the Winner\n",
        "    if (player_choice == \"rock\" and computer_choice == \"paper\") or \\\n",
        "     (player_choice == \"paper\" and computer_choice == \"scissors\") or \\\n",
        "      (player_choice == \"scissors\" and computer_choice == \"rock\"):\n",
        "        loses += 1\n",
        "        print(\"You lost! Thanks for playing.\")\n",
        "        print(\"---------\")\n",
        "    elif player_choice == computer_choice:\n",
        "        ties += 1\n",
        "        print(\"You tied! Thanks for playing.\")\n",
        "        print(\"---------\")\n",
        "    else:\n",
        "        wins += 1\n",
        "        print(\"You won! Thanks for playing.\")\n",
        "        print(\"---------\")\n",
        "\n",
        "    #Play again?\n",
        "    play_again = input(\"Do you want to play again?\"\n",
        "                        \" Please enter 'yes' if so: \").lower().lstrip()\n",
        "    print(\"---------\")\n",
        "    if play_again != \"yes\":\n",
        "        start = False #End game\n",
        "\n",
        "#Final results after game ends\n",
        "print(\"You won\", wins, \"times.\")\n",
        "print(\"You lost\", loses, \"times.\")\n",
        "print(\"You tied\", ties, \"times.\")\n",
        "print(\"Thanks for playing. Goodbye!\")\n",
        "\n",
        "\n",
        "\n",
        "\n",
        "\n",
        "\n",
        "\n",
        "\n",
        "\n",
        "\n",
        "\n",
        "\n",
        "\n",
        "\n",
        "\n",
        "\n",
        "\n",
        "\n",
        "\n"
      ],
      "metadata": {
        "id": "L26qgTqHztqr",
        "colab": {
          "base_uri": "https://localhost:8080/",
          "height": 332
        },
        "outputId": "63c6421f-1ff2-4385-e8a7-ceba57ab0996"
      },
      "execution_count": null,
      "outputs": [
        {
          "output_type": "error",
          "ename": "SecretNotFoundError",
          "evalue": "Secret PLAYER_NAME does not exist.",
          "traceback": [
            "\u001b[0;31m---------------------------------------------------------------------------\u001b[0m",
            "\u001b[0;31mSecretNotFoundError\u001b[0m                       Traceback (most recent call last)",
            "\u001b[0;32m<ipython-input-1-ea21fc6f89ea>\u001b[0m in \u001b[0;36m<cell line: 10>\u001b[0;34m()\u001b[0m\n\u001b[1;32m      8\u001b[0m \u001b[0mstart\u001b[0m \u001b[0;34m=\u001b[0m \u001b[0;32mTrue\u001b[0m\u001b[0;34m\u001b[0m\u001b[0;34m\u001b[0m\u001b[0m\n\u001b[1;32m      9\u001b[0m \u001b[0mtry_again\u001b[0m \u001b[0;34m=\u001b[0m \u001b[0;34m\"Invalid input. Please choose rock, paper, or scissors.\"\u001b[0m\u001b[0;34m\u001b[0m\u001b[0;34m\u001b[0m\u001b[0m\n\u001b[0;32m---> 10\u001b[0;31m \u001b[0mplayer_name\u001b[0m \u001b[0;34m=\u001b[0m \u001b[0muserdata\u001b[0m\u001b[0;34m.\u001b[0m\u001b[0mget\u001b[0m\u001b[0;34m(\u001b[0m\u001b[0;34m\"PLAYER_NAME\"\u001b[0m\u001b[0;34m)\u001b[0m \u001b[0;31m#Get player's name in notebook secrets\u001b[0m\u001b[0;34m\u001b[0m\u001b[0;34m\u001b[0m\u001b[0m\n\u001b[0m\u001b[1;32m     11\u001b[0m \u001b[0;34m\u001b[0m\u001b[0m\n\u001b[1;32m     12\u001b[0m \u001b[0;31m#Displaying results\u001b[0m\u001b[0;34m\u001b[0m\u001b[0;34m\u001b[0m\u001b[0m\n",
            "\u001b[0;32m/usr/local/lib/python3.10/dist-packages/google/colab/userdata.py\u001b[0m in \u001b[0;36mget\u001b[0;34m(key)\u001b[0m\n\u001b[1;32m     66\u001b[0m     \u001b[0;32mraise\u001b[0m \u001b[0mTimeoutException\u001b[0m\u001b[0;34m(\u001b[0m\u001b[0mkey\u001b[0m\u001b[0;34m)\u001b[0m\u001b[0;34m\u001b[0m\u001b[0;34m\u001b[0m\u001b[0m\n\u001b[1;32m     67\u001b[0m   \u001b[0;32mif\u001b[0m \u001b[0;32mnot\u001b[0m \u001b[0mresp\u001b[0m\u001b[0;34m.\u001b[0m\u001b[0mget\u001b[0m\u001b[0;34m(\u001b[0m\u001b[0;34m'exists'\u001b[0m\u001b[0;34m,\u001b[0m \u001b[0;32mFalse\u001b[0m\u001b[0;34m)\u001b[0m\u001b[0;34m:\u001b[0m\u001b[0;34m\u001b[0m\u001b[0;34m\u001b[0m\u001b[0m\n\u001b[0;32m---> 68\u001b[0;31m     \u001b[0;32mraise\u001b[0m \u001b[0mSecretNotFoundError\u001b[0m\u001b[0;34m(\u001b[0m\u001b[0mkey\u001b[0m\u001b[0;34m)\u001b[0m\u001b[0;34m\u001b[0m\u001b[0;34m\u001b[0m\u001b[0m\n\u001b[0m\u001b[1;32m     69\u001b[0m   \u001b[0;32mif\u001b[0m \u001b[0;32mnot\u001b[0m \u001b[0mresp\u001b[0m\u001b[0;34m.\u001b[0m\u001b[0mget\u001b[0m\u001b[0;34m(\u001b[0m\u001b[0;34m'access'\u001b[0m\u001b[0;34m,\u001b[0m \u001b[0;32mFalse\u001b[0m\u001b[0;34m)\u001b[0m\u001b[0;34m:\u001b[0m\u001b[0;34m\u001b[0m\u001b[0;34m\u001b[0m\u001b[0m\n\u001b[1;32m     70\u001b[0m     \u001b[0;32mraise\u001b[0m \u001b[0mNotebookAccessError\u001b[0m\u001b[0;34m(\u001b[0m\u001b[0mkey\u001b[0m\u001b[0;34m)\u001b[0m\u001b[0;34m\u001b[0m\u001b[0;34m\u001b[0m\u001b[0m\n",
            "\u001b[0;31mSecretNotFoundError\u001b[0m: Secret PLAYER_NAME does not exist."
          ]
        }
      ]
    },
    {
      "cell_type": "markdown",
      "source": [
        "## Scratch Work\n",
        "\n",
        "Feel free to use the section below for scratch work, which will not be evaluated.\n",
        "\n",
        "If there is any solution code make sure to include it in the \"Solution\" section above instead!"
      ],
      "metadata": {
        "id": "qnlJVq8VYEKI"
      }
    },
    {
      "cell_type": "code",
      "source": [],
      "metadata": {
        "id": "ITePMxshYPQe"
      },
      "execution_count": null,
      "outputs": []
    },
    {
      "cell_type": "code",
      "source": [],
      "metadata": {
        "id": "xLQG6Tl1YPvM"
      },
      "execution_count": null,
      "outputs": []
    },
    {
      "cell_type": "code",
      "source": [],
      "metadata": {
        "id": "BukHEhRwYPmt"
      },
      "execution_count": null,
      "outputs": []
    }
  ]
}