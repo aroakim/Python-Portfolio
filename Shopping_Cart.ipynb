{
  "nbformat": 4,
  "nbformat_minor": 0,
  "metadata": {
    "colab": {
      "provenance": [],
      "include_colab_link": true
    },
    "kernelspec": {
      "name": "python3",
      "display_name": "Python 3"
    },
    "language_info": {
      "name": "python"
    }
  },
  "cells": [
    {
      "cell_type": "markdown",
      "metadata": {
        "id": "view-in-github",
        "colab_type": "text"
      },
      "source": [
        "<a href=\"https://colab.research.google.com/github/aroakim/Python-Portfolio/blob/main/Shopping_Cart.ipynb\" target=\"_parent\"><img src=\"https://colab.research.google.com/assets/colab-badge.svg\" alt=\"Open In Colab\"/></a>"
      ]
    },
    {
      "cell_type": "markdown",
      "source": [
        "Develop a Python application to facilitate a grocery store's checkout process."
      ],
      "metadata": {
        "id": "4Srdlse6bI5q"
      }
    },
    {
      "cell_type": "markdown",
      "source": [
        "## Business Prompt"
      ],
      "metadata": {
        "id": "HCMLilbO4rtr"
      }
    },
    {
      "cell_type": "markdown",
      "source": [
        "\n",
        "Your local corner grocery store has hired you as a technology consultant to help modernize their checkout system.\n",
        "\n",
        "**Current State (As Is) Process**\n",
        "\n",
        "Currently, when managing inventory, store employees affix a price tag sticker on each grocery item in stock. And when a customer visits the checkout counter with their selected items, a checkout clerk uses a calculator to add product prices, calculate tax, and calculate the total amount due. But this process takes more time than necessary, and is prone to manual error.\n",
        "\n",
        "**Future State (To Be) Process**\n",
        "\n",
        "Instead, the store owner describes a desired checkout process which involves the checkout clerk scanning each product's barcode to automatically lookup prices, perform tax and total calculations, and print a customer receipt. To facilitate this process, the store owner has authorized the purchase of a few inexpensive [barcode scanners](https://www.amazon.com/UNIDEEPLY-Barcode-Scanner-Handheld-Scanning/dp/B07GYLKX4J/ref=sr_1_1_sspa), as well as checkout computers capable of running Python applications.\n",
        "\n",
        "The store owner says it would be \"acceptable but not preferable\" to manage the inventory of products via the application's source code, that it would be \"better\" to manage the inventory of products via a CSV file, and that it would be \"ideal\" to be able to manage the inventory of products via a centralized Google Sheet spreadsheet document.\n",
        "\n",
        "The store owner also says it would be \"nice to have\" a feature which writes the receipt to a text file which can be printed, and would be \"nice to have\" a feature which prompts the checkout clerk to input the customer's email address in order to send them a receipt via email."
      ],
      "metadata": {
        "id": "dqaJ_O5H4wRC"
      }
    },
    {
      "cell_type": "markdown",
      "source": [
        "## Requirements\n",
        "\n"
      ],
      "metadata": {
        "id": "tnj6eer-RnND"
      }
    },
    {
      "cell_type": "markdown",
      "source": [
        "### Basic Requirements"
      ],
      "metadata": {
        "id": "9GpF6Z2OrmkR"
      }
    },
    {
      "cell_type": "markdown",
      "source": [
        "\n",
        "Write a Python program that asks the user to input one or more product identifiers, then looks up the prices for each, then prints an itemized customer receipt including the total amount owed.\n",
        "\n",
        "**Inventory Options:**\n",
        "\n",
        "The program should use just one of the provided datastores to represent the store owner's inventory of products and prices (see \"Inventory Options\" in the \"Scratch Work\" section at bottom for more info):\n",
        "\n",
        "  + A) For the hard-coded inventory, use the provided `basic_products` list.\n",
        "  + B) For the CSV file, use this hosted [\"products-default.csv\" file](https://raw.githubusercontent.com/prof-rossetti/intro-to-python/master/data/products-default.csv) instead.\n",
        "  + C) For the Google Sheets datastore, use the [\"products-default\" sheet](https://docs.google.com/spreadsheets/d/1ItN7Cc2Yn4K90cMIsxi2P045Gzw0y2JHB_EkV4mXXpI/edit?gid=837633200#gid=837633200) instead. If using a barcode scanner, optionally consider adding your own products to the \"products-custom\" sheet, and using the \"products-custom\" sheet instead.\n",
        "\n",
        "\n",
        "**Checkout Process:**\n",
        "\n",
        "The program should prompt the checkout clerk to input (or scan) the identifier of each shopping cart item, one at a time. It should also let the user know how to stop the process, by inputting the word \"DONE\" instead.\n",
        "\n",
        "**Validations:**\n",
        "\n",
        "When the clerk inputs a product identifier, the program should validate it, displaying a helpful message like \"Hey, are you sure that product identifier is correct? Please try again!\" if there are no products matching the given identifier.\n",
        "\n",
        "**\"Done\" Signal:**\n",
        "\n",
        "At any time the clerk should be able to indicate there are no more shopping cart items by inputting the word \"DONE\". Before asking for any identifiers, the program should provide clear instructions to the user about how to use the \"DONE\" keyword.\n",
        "\n",
        "**Receipt Display:**\n",
        "\n",
        "After the clerk indicates there are no more items, the program should print a custom receipt on the screen. The receipt should include the following components:\n",
        "\n",
        "  + A grocery store name of your choice (can be fictitious).\n",
        "  + A grocery store phone number and/or website URL and/or address of choice (can be fictitious).\n",
        "  + The date and time of the beginning of the checkout process, formatted in a human-friendly way (e.g. `2020-02-07 03:54 PM`). This might by default be displayed in UTC timezone, however we would ideally like the timestamp to be displayed in US Eastern timezone instead.\n",
        "  + The name and price of each shopping cart item, where the price is formatted as US dollars and cents (e.g. `$3.50`, etc.)\n",
        "  + The subtotal cost of all shopping cart items, calculated as the sum of all selected product prices, formatted as US dollars and cents (e.g. `$19.47`).\n",
        "  + The amount of tax owed (e.g. `$1.70`), calculated by multiplying the total cost by a New York City sales tax rate of 8.75% (for the purposes of this project, groceries are not exempt from sales tax).\n",
        "  + The total amount owed, formatted as US dollars and cents (e.g. `$21.17`), calculated by adding together the subtotal plus the amount of tax owed.\n",
        "  + A friendly message thanking the customer and/or encouraging the customer to shop again\n",
        "\n",
        "The program should be able to process multiple shopping cart items of the same kind, but need not display any groupings or aggregations of those items (although it may optionally do so).\n",
        "\n"
      ],
      "metadata": {
        "id": "aLxBOtV_Cimv"
      }
    },
    {
      "cell_type": "markdown",
      "source": [
        "#### Example Output\n"
      ],
      "metadata": {
        "id": "w109Lk3SCmNw"
      }
    },
    {
      "cell_type": "markdown",
      "source": [
        "\n",
        "\n",
        "``` sh\n",
        "Please input a product identifier: 1\n",
        "Please input a product identifier: 2\n",
        "Please input a product identifier: 3\n",
        "Please input a product identifier: 2\n",
        "Please input a product identifier: 1\n",
        "Please input a product identifier: DONE\n",
        "\n",
        "#> ---------------------------------\n",
        "#> GREEN FOODS GROCERY\n",
        "#> WWW.GREEN-FOODS-GROCERY.COM\n",
        "#> ---------------------------------\n",
        "#> CHECKOUT AT: 2020-02-07 03:54 PM\n",
        "#> ---------------------------------\n",
        "#> SELECTED PRODUCTS:\n",
        "#>  ... Chocolate Sandwich Cookies ($3.50)\n",
        "#>  ... All-Seasons Salt ($4.99)\n",
        "#>  ... Robust Golden Unsweetened Oolong Tea ($2.49)\n",
        "#>  ... All-Seasons Salt ($4.99)\n",
        "#>  ... Chocolate Sandwich Cookies ($3.50)\n",
        "#> ---------------------------------\n",
        "#> SUBTOTAL: $19.47\n",
        "#> TAX: $1.70\n",
        "#> TOTAL: $21.17\n",
        "#> ---------------------------------\n",
        "#> THANKS, SEE YOU AGAIN SOON!\n",
        "#> ---------------------------------\n",
        "\n",
        "```"
      ],
      "metadata": {
        "id": "o9XEJ2RTClB8"
      }
    },
    {
      "cell_type": "markdown",
      "source": [
        "### Optional Further Exploration\n",
        "\n",
        "\n"
      ],
      "metadata": {
        "id": "sToAMIV9EnJZ"
      }
    },
    {
      "cell_type": "markdown",
      "source": [
        "\n",
        "\n",
        "**Writing Receipts to File**\n",
        "\n",
        "In addition to displaying a receipt at the end of the checkout process, the program should write the receipt information into a new text file saved to the notebook's filesystem. After downloading the file, the clerk's printer-connected computer should be able to actually print a paper receipt from the information contained in this file.\n",
        "\n",
        "Each text file should be named according to the date and time the checkout process started (e.g. \"receipt-2024-10-03-15-45-00.txt\", for October 3rd 2024 at 3:45pm, where the numbers represent the year, month, day, 24-hour-style hour, minute, and second, respectively).\n",
        "\n",
        "> HINT: consult the notes on [file management](https://github.com/prof-rossetti/intro-to-python/blob/main/notes/python/file-management.md) for examples of how to write to file in Python\n",
        "\n",
        "**Sending Receipts via Email**\n",
        "\n",
        "\n",
        "In addition to displaying a receipt at the end of the checkout process, the program should prompt the checkout clerk or the customer to indicate whether the customer would like to receive the receipt by email. And if so, it should prompt the checkout clerk or the customer to input the customer's email address, and then it should send the receipt information to the customer by email. The clerk's network-connected computer should be able to send these emails.\n",
        "\n",
        "At the very least, the email should display the checkout timestamp and the total price. But ideally it should contain all the receipt information described in the basic requirements.\n",
        "\n",
        "\n",
        "**Displaying Product Images**\n",
        "\n",
        "Only if using the spreadsheet inventory option which contains product image URLs, ideally display product images in the displayed and/or emailed receipt.\n",
        "\n",
        "Use the same height for each image so they look  somewhat uniform.\n"
      ],
      "metadata": {
        "id": "WUNpEywROMRY"
      }
    },
    {
      "cell_type": "markdown",
      "source": [
        "## Evaluation\n"
      ],
      "metadata": {
        "id": "GWj6HNQQSzZA"
      }
    },
    {
      "cell_type": "markdown",
      "source": [
        "Project submissions will be evaluated according to the requirements set forth above, as summarized by the rubric below:\n",
        "\n",
        "\n",
        "\n",
        "Category | Requirement | Weight\n",
        "--- | --- | ---\n",
        "Instructions | Provides setup instructions via text cell (as necessary, if project requires additional setup, such as obtaining API keys, setting notebook secrets, etc.).  | 10%\n",
        "Security | Protects secret credentials (as necessary, for example if using secret credentials to send emails). | 10%\n",
        "Info Inputs | Reads products data from one of the provided inventory options (partial credit for hard-coded inventory, majority partial credit for CSV file inventory, full credit for spreadsheet inventory). | 15%\n",
        "Info Inputs | Captures / scans product identifiers. | 10%\n",
        "Info Inputs | Handles invalid inputs (like \"OOPS\" and/or out of range identifiers), fails gracefully on invalid product lookups. Does not try to process invalid inputs. Avoids a red / crashed cell. | 12.5%\n",
        "Info Inputs | Instructs the user about, and handles, the \"DONE\" signal. | 10%\n",
        "Info Outputs (Receipt) | Displays store info. | 5%\n",
        "Info Outputs (Receipt) | Displays checkout date and time, in a human-friendly format. | 7.5%\n",
        "Info Outputs (Receipt) | Displays names and prices of all scanned products, with prices formatted as USD.  | 10%\n",
        "Info Outputs (Receipt) | Displays accurate tax and totals, formatted as USD. | 10%\n",
        "\n",
        "Category (BONUS) | Requirement | Weight\n",
        "--- | --- | ---\n",
        "Info Outputs (Receipt) | Displays product images, as applicable (BONUS). | +5%\n",
        "Info Outputs (Receipt) | Writes all receipt information to text file (BONUS). | +5%\n",
        "Info Outputs (Receipt) | Sends all receipt information via email (BONUS). | +10%\n",
        "\n",
        "\n",
        "\n",
        "\n",
        "\n",
        "\n",
        "This rubric is tentative, and may be subject to slight adjustments during the grading process.\n",
        "\n",
        "If experiencing execution error(s) while evaluating the application's required functionality, evaluators are advised to reduce the project's grade by between 4% and 25%, depending on the circumstances and severity of the error(s).\n",
        "\n",
        "\n",
        "\n",
        "\n",
        "\n",
        "\n"
      ],
      "metadata": {
        "id": "ME5s2Ek6S1Dd"
      }
    },
    {
      "cell_type": "markdown",
      "source": [
        "## Setup"
      ],
      "metadata": {
        "id": "dPy56DRdnjt7"
      }
    },
    {
      "cell_type": "markdown",
      "source": [
        "If there are any setup instructions required to run your final solution, provide all the necessary instructions using text and/or code cells in this \"Setup\" section. This includes instructions about how to sign up for email-sending services, instructions on setting notebook secrets etc.\n",
        "\n"
      ],
      "metadata": {
        "id": "6zHBXQQ2nktf"
      }
    },
    {
      "cell_type": "markdown",
      "source": [
        "Enable Google Sheets API:\n",
        "1. Go to the Google Cloud Console: https://console.cloud.google.com/.\n",
        "2. Create a new project.\n",
        "3. Use the dashboard menu to find 'APIs & Services' > 'Enabled APIs & services'. Click '+ ENABLE APIS AND SERVICES'.\n",
        "4. Search for 'Google Sheets API' in the API Library and click 'Enable'.\n",
        "5. Click 'CREATE CREDENTIALS'.\n",
        "6. Select an API > Google Sheets API.\n",
        "7. What data will you be accessing? > Application data.\n",
        "8. Create a Service account ID.\n",
        "9. Use the dashboard menu to find 'APIs & Services' > 'Credentials' and select on the service account you created just now.\n",
        "10. Click on the 'KEYS' tab on the top bar and click 'ADD KEY' > 'Create new key' > Key type: 'JSON'. This will download the credentials JSON file to your computer.\n",
        "11. Rename the downloaded JSON file as 'credentials.json'.\n",
        "12. Upload 'credentials.json' to Google Colab: In Google Colab, click the folder icon on the left sidebar > Click the upload icon and select the 'credentials.json' file you downloaded and renamed.\n",
        "\n",
        "Then run this cell below to setup the Google Sheets API credentials."
      ],
      "metadata": {
        "id": "802N_q33nz9N"
      }
    },
    {
      "cell_type": "markdown",
      "source": [
        "To sign up for email sending services:\n",
        "1. Set your email as a notebook secret called MY_EMAIL, and\n",
        "2. Set your email password as a notebook secret called MY_PASSWORD,\n",
        "using the secrets menu in the left sidebar."
      ],
      "metadata": {
        "id": "ZhwZdClwjHw6"
      }
    },
    {
      "cell_type": "code",
      "source": [
        "from google.colab import userdata\n",
        "\n",
        "# Setup Google Sheets API credentials\n",
        "scope = [\n",
        "    \"https://spreadsheets.google.com/feeds\",  # URL for accessing Google Sheets\n",
        "    'https://www.googleapis.com/auth/spreadsheets',  # URL for accessing Google Sheets API\n",
        "    \"https://www.googleapis.com/auth/drive.file\",  # URL for file-specific access on Google Drive\n",
        "    \"https://www.googleapis.com/auth/drive\"  # URL for general access to Google Drive\n",
        "]\n",
        "\n",
        "## Check Google Sheets credentials ##\n",
        "try:\n",
        "    creds_path = '/content/credentials.json'  # Path to the credentials file in Google Colab\n",
        "    creds = ServiceAccountCredentials.from_json_keyfile_name(creds_path, scope)  # Load credentials from JSON file\n",
        "    client = gspread.authorize(creds)  # Authorize client with credentials\n",
        "except FileNotFoundError:\n",
        "    print(\"Error: 'credentials.json' file not found. Please upload the credentials file to Google Colab by following the Setup Instructions above.\")\n",
        "    raise\n",
        "\n",
        "# Set up Secrets\n",
        "MY_EMAIL = userdata.get(\"MY_EMAIL\")\n",
        "MY_PASSWORD = userdata.get(\"MY_PASSWORD\")\n"
      ],
      "metadata": {
        "id": "Wch43rdUoByE"
      },
      "execution_count": null,
      "outputs": []
    },
    {
      "cell_type": "code",
      "source": [],
      "metadata": {
        "id": "RTNrT2i7oBq1"
      },
      "execution_count": null,
      "outputs": []
    },
    {
      "cell_type": "code",
      "source": [],
      "metadata": {
        "id": "z5ToZERnoBnu"
      },
      "execution_count": null,
      "outputs": []
    },
    {
      "cell_type": "markdown",
      "source": [
        "# Solution"
      ],
      "metadata": {
        "id": "PaHSX83Qrx8j"
      }
    },
    {
      "cell_type": "markdown",
      "source": [
        "Besides the \"Setup\" section, this is the only other section that will be evaluated. Make sure the final working version of the application's code is completely contained within these two sections."
      ],
      "metadata": {
        "id": "LLtxUAzrzfh_"
      }
    },
    {
      "cell_type": "code",
      "source": [
        "from google.colab import files\n",
        "import os\n",
        "\n",
        "from oauth2client.service_account import ServiceAccountCredentials  # For Google API authentication\n",
        "import gspread  # Library to interact with Google Sheets\n",
        "\n",
        "import datetime  # To get current date and time\n",
        "import pytz  # To work with timezone information\n",
        "\n",
        "import smtplib  # For sending emails\n",
        "from email.mime.multipart import MIMEMultipart  # To create a MIME email message\n",
        "from email.mime.text import MIMEText  # To add text to an email\n",
        "\n",
        "# Open Google Sheet\n",
        "google_sheet_link = \"https://docs.google.com/spreadsheets/d/1ItN7Cc2Yn4K90cMIsxi2P045Gzw0y2JHB_EkV4mXXpI/edit?usp=sharing\"\n",
        "doc = client.open_by_url(google_sheet_link).worksheet(\"products-default\")  # Open tab from the Google Sheet\n",
        "data = doc.get_all_records()  # All records as a list of dictionaries\n",
        "\n",
        "# Function to lookup product by identifier\n",
        "def get_product(identifier):\n",
        "    for item in data:  # Iterate through each product in the data\n",
        "        if str(item['id']) == identifier:  # Check if product identifier matches\n",
        "            return item  # Return the matched product\n",
        "    return None  # Return None if no product is found\n",
        "\n",
        "# Checkout Process\n",
        "def main():\n",
        "    print(\"Please input product identifiers.\")  # Prompt for item input\n",
        "    print(\"Type 'DONE' when finished.\")  # Provide instruction to end input\n",
        "\n",
        "    # Cart\n",
        "    cart = []  # Initialize an empty list to hold items in the cart\n",
        "\n",
        "    while True:\n",
        "        identifier = input(\"Enter product identifier: \")  # Prompt for product identifier\n",
        "        if identifier.upper() == \"DONE\":  # Check if the input is 'DONE' to end process\n",
        "            break\n",
        "\n",
        "        product = get_product(identifier)  # Lookup product by identifier\n",
        "        if product is None:  # If product is not found\n",
        "            print(\"Are you sure that product identifier is correct? Please try again!\")  # Display error message\n",
        "        else:\n",
        "            cart.append(product)  # Add product to cart if found\n",
        "\n",
        "    if not cart:  # If the cart is empty\n",
        "        print(\"No items in cart.\")  # Display empty cart message\n",
        "        return\n",
        "\n",
        " # Get Current Timestamp\n",
        "    eastern = pytz.timezone('US/Eastern')  # Set timezone to US Eastern\n",
        "    checkout_time = datetime.datetime.now(eastern)  # Get current date and time in Eastern timezone\n",
        "    formatted_time = checkout_time.strftime('%Y-%m-%d %I:%M %p')  # Format the date and time\n",
        "\n",
        "# Calculate receipt\n",
        "    subtotal = sum([item['price'] for item in cart])  # Calculate subtotal by summing item prices\n",
        "    tax_rate = 0.0875  # Set tax rate to 8.75%\n",
        "    tax = subtotal * tax_rate  # Calculate tax amount\n",
        "    total = subtotal + tax  # Calculate total amount owed\n",
        "\n",
        " # Print Receipt\n",
        "    print(\"---------------------------------\")\n",
        "    print(\"Partial Foods Market\")\n",
        "    print(\"www.partial-foods-market.com\")\n",
        "    print(\"---------------------------------\")\n",
        "    print(f\"CHECKOUT AT: {formatted_time}\")  # Print formatted date and time\n",
        "    print(\"---------------------------------\")\n",
        "    print(\"SELECTED PRODUCTS:\")\n",
        "    for item in cart:  # Iterate through each item in the cart\n",
        "        print(f\"{item['name']}: ${item['price']:.2f}\")  # Print item name and price\n",
        "    print(\"---------------------------------\")\n",
        "    print(f\"SUBTOTAL: ${subtotal:.2f}\")  # Print subtotal\n",
        "    print(f\"TAX: ${tax:.2f}\")  # Print tax amount\n",
        "    print(f\"TOTAL: ${total:.2f}\")  # Print total amount\n",
        "    print(\"---------------------------------\")\n",
        "    print(\"THANK YOU FOR SHOPPPING WITH US, SEE YOU AGAIN SOON!\")\n",
        "    print(\"---------------------------------\")\n",
        "\n",
        "# Write Receipt to File\n",
        "    file_name = checkout_time.strftime(\"receipt-%Y-%m-%d-%H-%M-%S.txt\")  # Create file name based on timestamp\n",
        "    with open(file_name, \"w\") as file:  # Open file in write mode\n",
        "        file.write(\"---------------------------------\\n\")\n",
        "        file.write(\"Partial Foods Market\\n\")\n",
        "        file.write(\"www.partial-foods-market.com\\n\")\n",
        "        file.write(\"---------------------------------\\n\")\n",
        "        file.write(f\"CHECKOUT AT: {formatted_time}\\n\")\n",
        "        file.write(\"---------------------------------\\n\")\n",
        "        file.write(\"SELECTED PRODUCTS:\")\n",
        "        for item in cart:\n",
        "            file.write(f\"{item['name']}: ${item['price']:.2f}\\n\")\n",
        "        file.write(\"---------------------------------\\n\")\n",
        "        file.write(f\"SUBTOTAL: ${subtotal:.2f}\\n\")\n",
        "        file.write(f\"TAX: ${tax:.2f}\\n\")\n",
        "        file.write(f\"TOTAL: ${total:.2f}\\n\")\n",
        "        file.write(\"---------------------------------\\n\")\n",
        "        file.write(\"THANK YOU FOR SHOPPPING WITH US, SEE YOU AGAIN SOON!\\n\")\n",
        "        file.write(\"---------------------------------\\n\")\n",
        "\n",
        "# Download Receipt File\n",
        "    files.download(file_name)  # Download the receipt file\n",
        "\n",
        " # Email Receipt Option\n",
        "    while True:\n",
        "        email_choice = input(\"Would the customer like a receipt via email? (yes/no): \").strip().lower()  # Prompt for email receipt\n",
        "        if email_choice in ['yes', 'no']:\n",
        "            break\n",
        "        else:\n",
        "            print(\"Oops! Please try again!\")  # Display error message for invalid input\n",
        "\n",
        "    if email_choice == 'yes':  # If customer wants email receipt\n",
        "        customer_email = input(\"Please enter the customer's email address: \")  # Prompt for customer's email address\n",
        "        send_email(customer_email, formatted_time, subtotal, tax, total, cart)  # Call send_email function\n",
        "\n",
        "# Email Sending Function\n",
        "def send_email(to_address, checkout_time, subtotal, tax, total, cart):\n",
        "    from_address = userdata.get(\"MY_EMAIL\")\n",
        "    password = userdata.get(\"MY_PASSWORD\")\n",
        "\n",
        "# Setup MIME\n",
        "    msg = MIMEMultipart()  # Create a MIME message\n",
        "    msg['From'] = from_address  # Set sender's email address\n",
        "    msg['To'] = to_address  # Set recipient's email address\n",
        "    msg['Subject'] = \"Partial Foods Market Receipt\"  # Set email subject\n",
        "\n",
        "# Email Body\n",
        "    body = \"\\n\".join([\n",
        "        \"---------------------------------\",\n",
        "        \"Partial Foods Market\",\n",
        "        \"www.partial-foods-market.com\",\n",
        "        \"---------------------------------\",\n",
        "        f\"CHECKOUT AT: {checkout_time}\",\n",
        "        \"---------------------------------\",\n",
        "        \"SELECTED PRODUCTS:\",\n",
        "        *[f\"{item['name']}: ${item['price']:.2f}\" for item in cart],\n",
        "        \"---------------------------------\",\n",
        "        f\"SUBTOTAL: ${subtotal:.2f}\",\n",
        "        f\"TAX: ${tax:.2f}\",\n",
        "        f\"TOTAL: ${total:.2f}\",\n",
        "        \"---------------------------------\",\n",
        "        \"THANK YOU FOR SHOPPPING WITH US, SEE YOU AGAIN SOON!\",\n",
        "        \"---------------------------------\"\n",
        "    ])\n",
        "\n",
        "    msg.attach(MIMEText(body, 'plain'))  # Attach the body to the email\n",
        "\n",
        "# Setup SMTP\n",
        "    try:\n",
        "        server = smtplib.SMTP('smtp.gmail.com', 587)\n",
        "        server.starttls()\n",
        "        server.login(from_address, password)  # Login to the SMTP server\n",
        "        server.send_message(msg)  # Send the email message\n",
        "        print(f\"Email receipt sent to {to_address}!\")  # Confirm email sent\n",
        "    except Exception as e:\n",
        "        print(\"Failed to send email.\", str(e))  # Print error message if email fails\n",
        "    finally:\n",
        "        server.quit()  # Quit the SMTP server\n",
        "\n",
        "# Run main function\n",
        "if __name__ == \"__main__\":\n",
        "    main()"
      ],
      "metadata": {
        "id": "TAWlkMTir0AR",
        "colab": {
          "base_uri": "https://localhost:8080/",
          "height": 211
        },
        "outputId": "f7510a9b-2ada-46b9-d92f-a72a0b17b9b6"
      },
      "execution_count": null,
      "outputs": [
        {
          "output_type": "error",
          "ename": "NameError",
          "evalue": "name 'client' is not defined",
          "traceback": [
            "\u001b[0;31m---------------------------------------------------------------------------\u001b[0m",
            "\u001b[0;31mNameError\u001b[0m                                 Traceback (most recent call last)",
            "\u001b[0;32m<ipython-input-2-1c70b0e61803>\u001b[0m in \u001b[0;36m<cell line: 16>\u001b[0;34m()\u001b[0m\n\u001b[1;32m     14\u001b[0m \u001b[0;31m# Open Google Sheet\u001b[0m\u001b[0;34m\u001b[0m\u001b[0;34m\u001b[0m\u001b[0m\n\u001b[1;32m     15\u001b[0m \u001b[0mgoogle_sheet_link\u001b[0m \u001b[0;34m=\u001b[0m \u001b[0;34m\"https://docs.google.com/spreadsheets/d/1ItN7Cc2Yn4K90cMIsxi2P045Gzw0y2JHB_EkV4mXXpI/edit?usp=sharing\"\u001b[0m\u001b[0;34m\u001b[0m\u001b[0;34m\u001b[0m\u001b[0m\n\u001b[0;32m---> 16\u001b[0;31m \u001b[0mdoc\u001b[0m \u001b[0;34m=\u001b[0m \u001b[0mclient\u001b[0m\u001b[0;34m.\u001b[0m\u001b[0mopen_by_url\u001b[0m\u001b[0;34m(\u001b[0m\u001b[0mgoogle_sheet_link\u001b[0m\u001b[0;34m)\u001b[0m\u001b[0;34m.\u001b[0m\u001b[0mworksheet\u001b[0m\u001b[0;34m(\u001b[0m\u001b[0;34m\"products-default\"\u001b[0m\u001b[0;34m)\u001b[0m  \u001b[0;31m# Open tab from the Google Sheet\u001b[0m\u001b[0;34m\u001b[0m\u001b[0;34m\u001b[0m\u001b[0m\n\u001b[0m\u001b[1;32m     17\u001b[0m \u001b[0mdata\u001b[0m \u001b[0;34m=\u001b[0m \u001b[0mdoc\u001b[0m\u001b[0;34m.\u001b[0m\u001b[0mget_all_records\u001b[0m\u001b[0;34m(\u001b[0m\u001b[0;34m)\u001b[0m  \u001b[0;31m# All records as a list of dictionaries\u001b[0m\u001b[0;34m\u001b[0m\u001b[0;34m\u001b[0m\u001b[0m\n\u001b[1;32m     18\u001b[0m \u001b[0;34m\u001b[0m\u001b[0m\n",
            "\u001b[0;31mNameError\u001b[0m: name 'client' is not defined"
          ]
        }
      ]
    },
    {
      "cell_type": "markdown",
      "source": [
        "# Scratch Work"
      ],
      "metadata": {
        "id": "ekIj0aU66R9M"
      }
    },
    {
      "cell_type": "code",
      "source": [],
      "metadata": {
        "id": "F5cRywL7uQF0"
      },
      "execution_count": null,
      "outputs": []
    },
    {
      "cell_type": "markdown",
      "source": [
        "\n",
        "Optionally use these cells as scratch-work to practice various techniques.\n",
        "\n",
        "> NOTE: These practice cells won't be evaluated. So make sure that your final work ends up in the \"Solution\" section above.\n",
        "\n",
        "\n",
        "\n"
      ],
      "metadata": {
        "id": "9GRq-wa3rRzc"
      }
    },
    {
      "cell_type": "markdown",
      "source": [
        "## Inventory Options"
      ],
      "metadata": {
        "id": "E1afjEIqik5S"
      }
    },
    {
      "cell_type": "markdown",
      "source": [
        "### Hard-coded"
      ],
      "metadata": {
        "id": "oIFB3vJteuLE"
      }
    },
    {
      "cell_type": "code",
      "source": [
        "# this is Inventory Option A (but you can use a different option if you'd like)\n",
        "\n",
        "basic_products = [\n",
        "    {\"id\":1, \"name\": \"Chocolate Sandwich Cookies\", \"department\": \"snacks\", \"aisle\": \"cookies cakes\", \"price\": 3.50},\n",
        "    {\"id\":2, \"name\": \"All-Seasons Salt\", \"department\": \"pantry\", \"aisle\": \"spices seasonings\", \"price\": 4.99},\n",
        "    {\"id\":3, \"name\": \"Robust Golden Unsweetened Oolong Tea\", \"department\": \"beverages\", \"aisle\": \"tea\", \"price\": 2.49},\n",
        "    {\"id\":4, \"name\": \"Smart Ones Classic Favorites Mini Rigatoni With Vodka Cream Sauce\", \"department\": \"frozen\", \"aisle\": \"frozen meals\", \"price\": 6.99},\n",
        "    {\"id\":5, \"name\": \"Green Chile Anytime Sauce\", \"department\": \"pantry\", \"aisle\": \"marinades meat preparation\", \"price\": 7.99},\n",
        "    {\"id\":6, \"name\": \"Dry Nose Oil\", \"department\": \"personal care\", \"aisle\": \"cold flu allergy\", \"price\": 21.99},\n",
        "    {\"id\":7, \"name\": \"Pure Coconut Water With Orange\", \"department\": \"beverages\", \"aisle\": \"juice nectars\", \"price\": 3.50},\n",
        "    {\"id\":8, \"name\": \"Cut Russet Potatoes Steam N' Mash\", \"department\": \"frozen\", \"aisle\": \"frozen produce\", \"price\": 4.25},\n",
        "    {\"id\":9, \"name\": \"Light Strawberry Blueberry Yogurt\", \"department\": \"dairy eggs\", \"aisle\": \"yogurt\", \"price\": 6.50},\n",
        "    {\"id\":10, \"name\": \"Sparkling Orange Juice & Prickly Pear Beverage\", \"department\": \"beverages\", \"aisle\": \"water seltzer sparkling water\", \"price\": 2.99},\n",
        "    {\"id\":11, \"name\": \"Peach Mango Juice\", \"department\": \"beverages\", \"aisle\": \"refrigerated\", \"price\": 1.99},\n",
        "    {\"id\":12, \"name\": \"Chocolate Fudge Layer Cake\", \"department\": \"frozen\", \"aisle\": \"frozen dessert\", \"price\": 18.50},\n",
        "    {\"id\":13, \"name\": \"Saline Nasal Mist\", \"department\": \"personal care\", \"aisle\": \"cold flu allergy\", \"price\": 16.00},\n",
        "    {\"id\":14, \"name\": \"Fresh Scent Dishwasher Cleaner\", \"department\": \"household\", \"aisle\": \"dish detergents\", \"price\": 4.99},\n",
        "    {\"id\":15, \"name\": \"Overnight Diapers Size 6\", \"department\": \"babies\", \"aisle\": \"diapers wipes\", \"price\": 25.50},\n",
        "    {\"id\":16, \"name\": \"Mint Chocolate Flavored Syrup\", \"department\": \"snacks\", \"aisle\": \"ice cream toppings\", \"price\": 4.50},\n",
        "    {\"id\":17, \"name\": \"Rendered Duck Fat\", \"department\": \"meat seafood\", \"aisle\": \"poultry counter\", \"price\": 9.99},\n",
        "    {\"id\":18, \"name\": \"Pizza for One Suprema Frozen Pizza\", \"department\": \"frozen\", \"aisle\": \"frozen pizza\", \"price\": 12.50},\n",
        "    {\"id\":19, \"name\": \"Gluten Free Quinoa Three Cheese & Mushroom Blend\", \"department\": \"dry goods pasta\", \"aisle\": \"grains rice dried goods\", \"price\": 3.99},\n",
        "    {\"id\":20, \"name\": \"Pomegranate Cranberry & Aloe Vera Enrich Drink\", \"department\": \"beverages\", \"aisle\": \"juice nectars\", \"price\": 4.25}\n",
        "] # based on data from Instacart: https://www.instacart.com/datasets/grocery-shopping-2017\n",
        "\n",
        "print(type(basic_products))\n",
        "print(len(basic_products))\n",
        "print(basic_products)"
      ],
      "metadata": {
        "id": "WARR5j5LrziR"
      },
      "execution_count": null,
      "outputs": []
    },
    {
      "cell_type": "code",
      "source": [],
      "metadata": {
        "id": "SEsr5O1K8L6t"
      },
      "execution_count": null,
      "outputs": []
    },
    {
      "cell_type": "code",
      "source": [],
      "metadata": {
        "id": "s3Iamwzo8L4e"
      },
      "execution_count": null,
      "outputs": []
    },
    {
      "cell_type": "markdown",
      "source": [
        "### CSV File"
      ],
      "metadata": {
        "id": "x5QDxu75ew3v"
      }
    },
    {
      "cell_type": "code",
      "source": [
        "# this is Inventory Option B (but you can use a different option if you'd like)\n",
        "\n",
        "\n",
        "products_url = \"https://raw.githubusercontent.com/prof-rossetti/intro-to-python/master/data/products.csv\"\n",
        "\n"
      ],
      "metadata": {
        "id": "eLUVuMbL8L14"
      },
      "execution_count": null,
      "outputs": []
    },
    {
      "cell_type": "code",
      "source": [
        "\n"
      ],
      "metadata": {
        "id": "VacUfGCT8LvV"
      },
      "execution_count": null,
      "outputs": []
    },
    {
      "cell_type": "code",
      "source": [],
      "metadata": {
        "id": "lPM35TwBfIMU"
      },
      "execution_count": null,
      "outputs": []
    },
    {
      "cell_type": "code",
      "source": [],
      "metadata": {
        "id": "hS3Z0JLcfIJ6"
      },
      "execution_count": null,
      "outputs": []
    },
    {
      "cell_type": "markdown",
      "source": [
        "### Spreadsheet"
      ],
      "metadata": {
        "id": "5FD_Po7wfI97"
      }
    },
    {
      "cell_type": "code",
      "source": [
        "# this is Inventory Option C (but you can use a different option if you'd like)\n",
        "\n",
        "# see: https://docs.google.com/spreadsheets/d/1ItN7Cc2Yn4K90cMIsxi2P045Gzw0y2JHB_EkV4mXXpI/edit?usp=sharing\n",
        "DOCUMENT_ID = \"1ItN7Cc2Yn4K90cMIsxi2P045Gzw0y2JHB_EkV4mXXpI\" # public access database\n",
        "\n",
        "SHEET_NAME = \"products-default\"\n",
        "#SHEET_NAME = \"products-custom\" # if using barcode scanner, use this sheet, and feel free to add your own products\n",
        "\n"
      ],
      "metadata": {
        "id": "PvdpuRgMfIGg"
      },
      "execution_count": null,
      "outputs": []
    },
    {
      "cell_type": "code",
      "source": [],
      "metadata": {
        "id": "4sU7juQSfIEA"
      },
      "execution_count": null,
      "outputs": []
    },
    {
      "cell_type": "code",
      "source": [],
      "metadata": {
        "id": "w1s6KGsBi3Pj"
      },
      "execution_count": null,
      "outputs": []
    },
    {
      "cell_type": "code",
      "source": [],
      "metadata": {
        "id": "-6qn8Puvi4KU"
      },
      "execution_count": null,
      "outputs": []
    }
  ]
}